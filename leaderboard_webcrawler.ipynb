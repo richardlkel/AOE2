{
 "cells": [
  {
   "cell_type": "markdown",
   "metadata": {},
   "source": [
    "# Age of Empires webcrawler for RM 1V1 leaderboard\n",
    "\n",
    "### Iterative connection to the aoe2.net API\n",
    "\n",
    "A custom crawler is required because the above API restricts downloads to 10000; however this is not enough data to infer meaningful statistics, as there are many more than 1,000 players in the community.\n"
   ]
  },
  {
   "cell_type": "code",
   "execution_count": 1,
   "metadata": {},
   "outputs": [],
   "source": [
    "import pyodbc as db\n",
    "import pandas as pd\n",
    "import json\n",
    "import urllib\n",
    "import datetime\n",
    "import time\n",
    "import sys"
   ]
  },
  {
   "cell_type": "code",
   "execution_count": 38,
   "metadata": {},
   "outputs": [],
   "source": [
    "# API string\n",
    "api_str = 'https://aoe2.net/api/leaderboard?game=aoe2de&leaderboard_id=3&count=10000&start='\n",
    "rank_start = 1  # start point for ranking\n",
    "\n",
    "# set up json-to-save structure\n",
    "json_total = list()\n",
    "\n",
    "# set up save name structure\n",
    "save_filename_root = 'C:/Users/richa/OneDrive/Documents/Career/Portfolio/AOE2/API Dataleaderboard.json'\n",
    "\n",
    "# set up error handlers\n",
    "max_allowed_invalid = 5  # max allowed consecutive connection issues\n",
    "\n",
    "# set up counters\n",
    "current_rank = rank_start\n"
   ]
  },
  {
   "cell_type": "code",
   "execution_count": 39,
   "metadata": {},
   "outputs": [
    {
     "name": "stdout",
     "output_type": "stream",
     "text": [
      "Retrieving ranks 1 and higher from: https://aoe2.net/api/leaderboard?game=aoe2de&leaderboard_id=3&count=10000&start=1\n",
      "Retrieving ranks 10001 and higher from: https://aoe2.net/api/leaderboard?game=aoe2de&leaderboard_id=3&count=10000&start=10001\n",
      "Retrieving ranks 20001 and higher from: https://aoe2.net/api/leaderboard?game=aoe2de&leaderboard_id=3&count=10000&start=20001\n",
      "Retrieving ranks 30001 and higher from: https://aoe2.net/api/leaderboard?game=aoe2de&leaderboard_id=3&count=10000&start=30001\n",
      "Retrieving ranks 40001 and higher from: https://aoe2.net/api/leaderboard?game=aoe2de&leaderboard_id=3&count=10000&start=40001\n",
      "No more records available. Exiting\n"
     ]
    }
   ],
   "source": [
    "# iterate through JSONSs from the API\n",
    "invalid_count = 0 # current consecutive url connection errors\n",
    "\n",
    "while True:\n",
    "        \n",
    "    # get the url to access the API\n",
    "    current_api_string = api_str + str(current_rank)\n",
    "    \n",
    "    print('Retrieving ranks {0} and higher from: {1}'.format(current_rank, current_api_string))\n",
    "        \n",
    "    try:\n",
    "        with urllib.request.urlopen(current_api_string,timeout=30) as url:\n",
    "            data = json.loads(url.read().decode())\n",
    "            \n",
    "    except:\n",
    "        invalid_count += 1\n",
    "        \n",
    "        \n",
    "        if invalid_count > max_allowed_invalid:\n",
    "            print('Too many consecutive connection failures ({0}). Exiting process'.format(max_allowed_invalid))\n",
    "            break\n",
    "        \n",
    "        time.sleep(1)\n",
    "        continue\n",
    "        \n",
    "    # if we get this far, then we have a successful connection. Reset invalid counter\n",
    "    invalid_count = 0\n",
    "    \n",
    "    [json_total.append(i) for i in data['leaderboard']]\n",
    "    \n",
    "    # get highest rank (i.e. most recent record) - should be just +10,000 from previous\n",
    "    current_rank = data['leaderboard'][-1]['rank'] + 1\n",
    "    \n",
    "    \n",
    "    # check to see if there is any data (i.e. have we reached the end of the leaderboard?)\n",
    "    if data['count'] != 10000:\n",
    "        print('No more records available. Exiting')\n",
    "        break\n",
    "\n",
    "        \n",
    "# save to .json\n",
    "with open(save_filename_root,'w') as outfile:\n",
    "            json.dump(json_total, outfile)\n",
    "            outfile.close()"
   ]
  }
 ],
 "metadata": {
  "kernelspec": {
   "display_name": "Python 3",
   "language": "python",
   "name": "python3"
  },
  "language_info": {
   "codemirror_mode": {
    "name": "ipython",
    "version": 3
   },
   "file_extension": ".py",
   "mimetype": "text/x-python",
   "name": "python",
   "nbconvert_exporter": "python",
   "pygments_lexer": "ipython3",
   "version": "3.8.3"
  }
 },
 "nbformat": 4,
 "nbformat_minor": 4
}
